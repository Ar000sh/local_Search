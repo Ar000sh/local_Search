{
 "cells": [
  {
   "cell_type": "code",
   "execution_count": 1,
   "id": "2240b12a",
   "metadata": {},
   "outputs": [],
   "source": [
    "import pandas as pd\n",
    "import matplotlib.pyplot as plt\n",
    "import seaborn as sns"
   ]
  },
  {
   "cell_type": "code",
   "execution_count": 4,
   "id": "185d0de4",
   "metadata": {},
   "outputs": [
    {
     "name": "stdout",
     "output_type": "stream",
     "text": [
      "     X    Y\n",
      "0  5.0  5.0\n",
      "     X    Y\n",
      "0  2.0  8.0\n",
      "1  5.0  2.0\n",
      "2  8.0  8.0\n",
      "     X    Y\n",
      "0  5.0  7.0\n",
      "1  5.0  3.5\n"
     ]
    }
   ],
   "source": [
    "df1 = pd.read_csv(\"basisstation_1test.csv\", header=None)\n",
    "df1.columns =['X','Y']\n",
    "\n",
    "df2 = pd.read_csv(\"wohnort_1test.csv\", header=None)\n",
    "df2.columns =['X','Y']\n",
    "\n",
    "df3 = pd.read_csv(\"ladestation_1test.csv\", header=None)\n",
    "df3.columns =['X','Y']\n",
    "\n",
    "print(df1)\n",
    "print(df2)\n",
    "print(df3)"
   ]
  },
  {
   "cell_type": "code",
   "execution_count": 5,
   "id": "49803bfa",
   "metadata": {},
   "outputs": [
    {
     "data": {
      "text/plain": [
       "<matplotlib.collections.PathCollection at 0x141b6b0b6a0>"
      ]
     },
     "execution_count": 5,
     "metadata": {},
     "output_type": "execute_result"
    },
    {
     "data": {
      "image/png": "[encoded data removed]",
      "text/plain": [
       "<Figure size 432x288 with 1 Axes>"
      ]
     },
     "metadata": {
      "needs_background": "light"
     },
     "output_type": "display_data"
    }
   ],
   "source": [
    "plt.scatter(df1['X'], df1['Y'], color='green')\n",
    "plt.scatter(df2['X'], df2['Y'], color='blue')\n",
    "plt.scatter(df3['X'], df3['Y'], color='red')"
   ]
  },
  {
   "cell_type": "code",
   "execution_count": 15,
   "id": "8307edf5",
   "metadata": {},
   "outputs": [
    {
     "name": "stdout",
     "output_type": "stream",
     "text": [
      "     X    Y\n",
      "0  5.0  5.0\n",
      "     X    Y\n",
      "0  2.0  8.0\n",
      "1  5.0  2.0\n",
      "2  8.0  8.0\n",
      "     X    Y\n",
      "0  5.0  3.5\n",
      "1  5.0  7.0\n"
     ]
    }
   ],
   "source": [
    "df11 = pd.read_csv(\"basisstation_1.csv\", header=None)\n",
    "df11.columns =['X','Y']\n",
    "\n",
    "df21 = pd.read_csv(\"wohnort_1.csv\", header=None)\n",
    "df21.columns =['X','Y']\n",
    "\n",
    "df31 = pd.read_csv(\"ladestation_1.csv\", header=None)\n",
    "df31.columns =['X','Y']\n",
    "\n",
    "print(df11)\n",
    "print(df21)\n",
    "print(df31)"
   ]
  },
  {
   "cell_type": "code",
   "execution_count": 16,
   "id": "592b2ea1",
   "metadata": {},
   "outputs": [
    {
     "data": {
      "text/plain": [
       "<matplotlib.collections.PathCollection at 0x1cf8212b940>"
      ]
     },
     "execution_count": 16,
     "metadata": {},
     "output_type": "execute_result"
    },
    {
     "data": {
      "image/png": "[encoded data removed]",
      "text/plain": [
       "<Figure size 432x288 with 1 Axes>"
      ]
     },
     "metadata": {
      "needs_background": "light"
     },
     "output_type": "display_data"
    }
   ],
   "source": [
    "plt.scatter(df11['X'], df11['Y'], color='green')\n",
    "plt.scatter(df21['X'], df21['Y'], color='blue')\n",
    "plt.scatter(df31['X'], df31['Y'], color='red')"
   ]
  },
  {
   "cell_type": "code",
   "execution_count": 76,
   "id": "db2026df",
   "metadata": {},
   "outputs": [
    {
     "name": "stdout",
     "output_type": "stream",
     "text": [
      "     X    Y\n",
      "0  4.0  6.0\n",
      "      X    Y\n",
      "0   2.1  2.4\n",
      "1   5.4  8.4\n",
      "2   3.2  4.2\n",
      "3   1.2  6.7\n",
      "4   1.7  8.9\n",
      "5   8.1  7.7\n",
      "6   7.3  2.5\n",
      "7   6.5  6.3\n",
      "8   4.9  1.5\n",
      "9   9.3  3.0\n",
      "10  7.1  9.2\n",
      "11  8.7  1.6\n",
      "     X    Y\n",
      "0  7.7  2.4\n",
      "1  1.7  6.0\n",
      "2  6.0  6.5\n"
     ]
    }
   ],
   "source": [
    "df2_1 = pd.read_csv(\"basisstation1.csv\", header=None)\n",
    "df2_1.columns =['X','Y']\n",
    "\n",
    "df2_2 = pd.read_csv(\"wohnort1.csv\", header=None)\n",
    "df2_2.columns =['X','Y']\n",
    "\n",
    "df2_3 = pd.read_csv(\"ladestation1.csv\", header=None)\n",
    "df2_3.columns =['X','Y']\n",
    "\n",
    "print(df2_1)\n",
    "print(df2_2)\n",
    "print(df2_3)"
   ]
  },
  {
   "cell_type": "code",
   "execution_count": 77,
   "id": "cbc69a5c",
   "metadata": {},
   "outputs": [
    {
     "data": {
      "text/plain": [
       "<matplotlib.collections.PathCollection at 0x17347ad2850>"
      ]
     },
     "execution_count": 77,
     "metadata": {},
     "output_type": "execute_result"
    },
    {
     "data": {
      "image/png": "[encoded data removed]",
      "text/plain": [
       "<Figure size 432x288 with 1 Axes>"
      ]
     },
     "metadata": {
      "needs_background": "light"
     },
     "output_type": "display_data"
    }
   ],
   "source": [
    "plt.scatter(df2_1['X'], df2_1['Y'], color='green')\n",
    "plt.scatter(df2_2['X'], df2_2['Y'], color='blue')\n",
    "plt.scatter(df2_3['X'], df2_3['Y'], color='red')"
   ]
  },
  {
   "cell_type": "code",
   "execution_count": 5,
   "id": "a6144c19",
   "metadata": {},
   "outputs": [
    {
     "ename": "FileNotFoundError",
     "evalue": "[Errno 2] No such file or directory: 'basisstation3B80.csv'",
     "output_type": "error",
     "traceback": [
      "\u001b[1;31m---------------------------------------------------------------------------\u001b[0m",
      "\u001b[1;31mFileNotFoundError\u001b[0m                         Traceback (most recent call last)",
      "\u001b[1;32m~\\AppData\\Local\\Temp/ipykernel_22708/1693621389.py\u001b[0m in \u001b[0;36m<module>\u001b[1;34m\u001b[0m\n\u001b[0;32m      8\u001b[0m \u001b[0mdf3_3\u001b[0m\u001b[1;33m.\u001b[0m\u001b[0mcolumns\u001b[0m \u001b[1;33m=\u001b[0m\u001b[1;33m[\u001b[0m\u001b[1;34m'X'\u001b[0m\u001b[1;33m,\u001b[0m\u001b[1;34m'Y'\u001b[0m\u001b[1;33m]\u001b[0m\u001b[1;33m\u001b[0m\u001b[1;33m\u001b[0m\u001b[0m\n\u001b[0;32m      9\u001b[0m \u001b[1;31m## B 80\u001b[0m\u001b[1;33m\u001b[0m\u001b[1;33m\u001b[0m\u001b[0m\n\u001b[1;32m---> 10\u001b[1;33m \u001b[0mdf3_1b80\u001b[0m \u001b[1;33m=\u001b[0m \u001b[0mpd\u001b[0m\u001b[1;33m.\u001b[0m\u001b[0mread_csv\u001b[0m\u001b[1;33m(\u001b[0m\u001b[1;34m\"basisstation3B80.csv\"\u001b[0m\u001b[1;33m,\u001b[0m \u001b[0mheader\u001b[0m\u001b[1;33m=\u001b[0m\u001b[1;32mNone\u001b[0m\u001b[1;33m)\u001b[0m\u001b[1;33m\u001b[0m\u001b[1;33m\u001b[0m\u001b[0m\n\u001b[0m\u001b[0;32m     11\u001b[0m \u001b[0mdf3_1b80\u001b[0m\u001b[1;33m.\u001b[0m\u001b[0mcolumns\u001b[0m \u001b[1;33m=\u001b[0m\u001b[1;33m[\u001b[0m\u001b[1;34m'X'\u001b[0m\u001b[1;33m,\u001b[0m\u001b[1;34m'Y'\u001b[0m\u001b[1;33m]\u001b[0m\u001b[1;33m\u001b[0m\u001b[1;33m\u001b[0m\u001b[0m\n\u001b[0;32m     12\u001b[0m \u001b[1;33m\u001b[0m\u001b[0m\n",
      "\u001b[1;32m~\\anaconda3\\lib\\site-packages\\pandas\\util\\_decorators.py\u001b[0m in \u001b[0;36mwrapper\u001b[1;34m(*args, **kwargs)\u001b[0m\n\u001b[0;32m    309\u001b[0m                     \u001b[0mstacklevel\u001b[0m\u001b[1;33m=\u001b[0m\u001b[0mstacklevel\u001b[0m\u001b[1;33m,\u001b[0m\u001b[1;33m\u001b[0m\u001b[1;33m\u001b[0m\u001b[0m\n\u001b[0;32m    310\u001b[0m                 )\n\u001b[1;32m--> 311\u001b[1;33m             \u001b[1;32mreturn\u001b[0m \u001b[0mfunc\u001b[0m\u001b[1;33m(\u001b[0m\u001b[1;33m*\u001b[0m\u001b[0margs\u001b[0m\u001b[1;33m,\u001b[0m \u001b[1;33m**\u001b[0m\u001b[0mkwargs\u001b[0m\u001b[1;33m)\u001b[0m\u001b[1;33m\u001b[0m\u001b[1;33m\u001b[0m\u001b[0m\n\u001b[0m\u001b[0;32m    312\u001b[0m \u001b[1;33m\u001b[0m\u001b[0m\n\u001b[0;32m    313\u001b[0m         \u001b[1;32mreturn\u001b[0m \u001b[0mwrapper\u001b[0m\u001b[1;33m\u001b[0m\u001b[1;33m\u001b[0m\u001b[0m\n",
      "\u001b[1;32m~\\anaconda3\\lib\\site-packages\\pandas\\io\\parsers\\readers.py\u001b[0m in \u001b[0;36mread_csv\u001b[1;34m(filepath_or_buffer, sep, delimiter, header, names, index_col, usecols, squeeze, prefix, mangle_dupe_cols, dtype, engine, converters, true_values, false_values, skipinitialspace, skiprows, skipfooter, nrows, na_values, keep_default_na, na_filter, verbose, skip_blank_lines, parse_dates, infer_datetime_format, keep_date_col, date_parser, dayfirst, cache_dates, iterator, chunksize, compression, thousands, decimal, lineterminator, quotechar, quoting, doublequote, escapechar, comment, encoding, encoding_errors, dialect, error_bad_lines, warn_bad_lines, on_bad_lines, delim_whitespace, low_memory, memory_map, float_precision, storage_options)\u001b[0m\n\u001b[0;32m    584\u001b[0m     \u001b[0mkwds\u001b[0m\u001b[1;33m.\u001b[0m\u001b[0mupdate\u001b[0m\u001b[1;33m(\u001b[0m\u001b[0mkwds_defaults\u001b[0m\u001b[1;33m)\u001b[0m\u001b[1;33m\u001b[0m\u001b[1;33m\u001b[0m\u001b[0m\n\u001b[0;32m    585\u001b[0m \u001b[1;33m\u001b[0m\u001b[0m\n\u001b[1;32m--> 586\u001b[1;33m     \u001b[1;32mreturn\u001b[0m \u001b[0m_read\u001b[0m\u001b[1;33m(\u001b[0m\u001b[0mfilepath_or_buffer\u001b[0m\u001b[1;33m,\u001b[0m \u001b[0mkwds\u001b[0m\u001b[1;33m)\u001b[0m\u001b[1;33m\u001b[0m\u001b[1;33m\u001b[0m\u001b[0m\n\u001b[0m\u001b[0;32m    587\u001b[0m \u001b[1;33m\u001b[0m\u001b[0m\n\u001b[0;32m    588\u001b[0m \u001b[1;33m\u001b[0m\u001b[0m\n",
      "\u001b[1;32m~\\anaconda3\\lib\\site-packages\\pandas\\io\\parsers\\readers.py\u001b[0m in \u001b[0;36m_read\u001b[1;34m(filepath_or_buffer, kwds)\u001b[0m\n\u001b[0;32m    480\u001b[0m \u001b[1;33m\u001b[0m\u001b[0m\n\u001b[0;32m    481\u001b[0m     \u001b[1;31m# Create the parser.\u001b[0m\u001b[1;33m\u001b[0m\u001b[1;33m\u001b[0m\u001b[0m\n\u001b[1;32m--> 482\u001b[1;33m     \u001b[0mparser\u001b[0m \u001b[1;33m=\u001b[0m \u001b[0mTextFileReader\u001b[0m\u001b[1;33m(\u001b[0m\u001b[0mfilepath_or_buffer\u001b[0m\u001b[1;33m,\u001b[0m \u001b[1;33m**\u001b[0m\u001b[0mkwds\u001b[0m\u001b[1;33m)\u001b[0m\u001b[1;33m\u001b[0m\u001b[1;33m\u001b[0m\u001b[0m\n\u001b[0m\u001b[0;32m    483\u001b[0m \u001b[1;33m\u001b[0m\u001b[0m\n\u001b[0;32m    484\u001b[0m     \u001b[1;32mif\u001b[0m \u001b[0mchunksize\u001b[0m \u001b[1;32mor\u001b[0m \u001b[0miterator\u001b[0m\u001b[1;33m:\u001b[0m\u001b[1;33m\u001b[0m\u001b[1;33m\u001b[0m\u001b[0m\n",
      "\u001b[1;32m~\\anaconda3\\lib\\site-packages\\pandas\\io\\parsers\\readers.py\u001b[0m in \u001b[0;36m__init__\u001b[1;34m(self, f, engine, **kwds)\u001b[0m\n\u001b[0;32m    809\u001b[0m             \u001b[0mself\u001b[0m\u001b[1;33m.\u001b[0m\u001b[0moptions\u001b[0m\u001b[1;33m[\u001b[0m\u001b[1;34m\"has_index_names\"\u001b[0m\u001b[1;33m]\u001b[0m \u001b[1;33m=\u001b[0m \u001b[0mkwds\u001b[0m\u001b[1;33m[\u001b[0m\u001b[1;34m\"has_index_names\"\u001b[0m\u001b[1;33m]\u001b[0m\u001b[1;33m\u001b[0m\u001b[1;33m\u001b[0m\u001b[0m\n\u001b[0;32m    810\u001b[0m \u001b[1;33m\u001b[0m\u001b[0m\n\u001b[1;32m--> 811\u001b[1;33m         \u001b[0mself\u001b[0m\u001b[1;33m.\u001b[0m\u001b[0m_engine\u001b[0m \u001b[1;33m=\u001b[0m \u001b[0mself\u001b[0m\u001b[1;33m.\u001b[0m\u001b[0m_make_engine\u001b[0m\u001b[1;33m(\u001b[0m\u001b[0mself\u001b[0m\u001b[1;33m.\u001b[0m\u001b[0mengine\u001b[0m\u001b[1;33m)\u001b[0m\u001b[1;33m\u001b[0m\u001b[1;33m\u001b[0m\u001b[0m\n\u001b[0m\u001b[0;32m    812\u001b[0m \u001b[1;33m\u001b[0m\u001b[0m\n\u001b[0;32m    813\u001b[0m     \u001b[1;32mdef\u001b[0m \u001b[0mclose\u001b[0m\u001b[1;33m(\u001b[0m\u001b[0mself\u001b[0m\u001b[1;33m)\u001b[0m\u001b[1;33m:\u001b[0m\u001b[1;33m\u001b[0m\u001b[1;33m\u001b[0m\u001b[0m\n",
      "\u001b[1;32m~\\anaconda3\\lib\\site-packages\\pandas\\io\\parsers\\readers.py\u001b[0m in \u001b[0;36m_make_engine\u001b[1;34m(self, engine)\u001b[0m\n\u001b[0;32m   1038\u001b[0m             )\n\u001b[0;32m   1039\u001b[0m         \u001b[1;31m# error: Too many arguments for \"ParserBase\"\u001b[0m\u001b[1;33m\u001b[0m\u001b[1;33m\u001b[0m\u001b[0m\n\u001b[1;32m-> 1040\u001b[1;33m         \u001b[1;32mreturn\u001b[0m \u001b[0mmapping\u001b[0m\u001b[1;33m[\u001b[0m\u001b[0mengine\u001b[0m\u001b[1;33m]\u001b[0m\u001b[1;33m(\u001b[0m\u001b[0mself\u001b[0m\u001b[1;33m.\u001b[0m\u001b[0mf\u001b[0m\u001b[1;33m,\u001b[0m \u001b[1;33m**\u001b[0m\u001b[0mself\u001b[0m\u001b[1;33m.\u001b[0m\u001b[0moptions\u001b[0m\u001b[1;33m)\u001b[0m  \u001b[1;31m# type: ignore[call-arg]\u001b[0m\u001b[1;33m\u001b[0m\u001b[1;33m\u001b[0m\u001b[0m\n\u001b[0m\u001b[0;32m   1041\u001b[0m \u001b[1;33m\u001b[0m\u001b[0m\n\u001b[0;32m   1042\u001b[0m     \u001b[1;32mdef\u001b[0m \u001b[0m_failover_to_python\u001b[0m\u001b[1;33m(\u001b[0m\u001b[0mself\u001b[0m\u001b[1;33m)\u001b[0m\u001b[1;33m:\u001b[0m\u001b[1;33m\u001b[0m\u001b[1;33m\u001b[0m\u001b[0m\n",
      "\u001b[1;32m~\\anaconda3\\lib\\site-packages\\pandas\\io\\parsers\\c_parser_wrapper.py\u001b[0m in \u001b[0;36m__init__\u001b[1;34m(self, src, **kwds)\u001b[0m\n\u001b[0;32m     49\u001b[0m \u001b[1;33m\u001b[0m\u001b[0m\n\u001b[0;32m     50\u001b[0m         \u001b[1;31m# open handles\u001b[0m\u001b[1;33m\u001b[0m\u001b[1;33m\u001b[0m\u001b[0m\n\u001b[1;32m---> 51\u001b[1;33m         \u001b[0mself\u001b[0m\u001b[1;33m.\u001b[0m\u001b[0m_open_handles\u001b[0m\u001b[1;33m(\u001b[0m\u001b[0msrc\u001b[0m\u001b[1;33m,\u001b[0m \u001b[0mkwds\u001b[0m\u001b[1;33m)\u001b[0m\u001b[1;33m\u001b[0m\u001b[1;33m\u001b[0m\u001b[0m\n\u001b[0m\u001b[0;32m     52\u001b[0m         \u001b[1;32massert\u001b[0m \u001b[0mself\u001b[0m\u001b[1;33m.\u001b[0m\u001b[0mhandles\u001b[0m \u001b[1;32mis\u001b[0m \u001b[1;32mnot\u001b[0m \u001b[1;32mNone\u001b[0m\u001b[1;33m\u001b[0m\u001b[1;33m\u001b[0m\u001b[0m\n\u001b[0;32m     53\u001b[0m \u001b[1;33m\u001b[0m\u001b[0m\n",
      "\u001b[1;32m~\\anaconda3\\lib\\site-packages\\pandas\\io\\parsers\\base_parser.py\u001b[0m in \u001b[0;36m_open_handles\u001b[1;34m(self, src, kwds)\u001b[0m\n\u001b[0;32m    220\u001b[0m         \u001b[0mLet\u001b[0m \u001b[0mthe\u001b[0m \u001b[0mreaders\u001b[0m \u001b[0mopen\u001b[0m \u001b[0mIOHandles\u001b[0m \u001b[0mafter\u001b[0m \u001b[0mthey\u001b[0m \u001b[0mare\u001b[0m \u001b[0mdone\u001b[0m \u001b[1;32mwith\u001b[0m \u001b[0mtheir\u001b[0m \u001b[0mpotential\u001b[0m \u001b[0mraises\u001b[0m\u001b[1;33m.\u001b[0m\u001b[1;33m\u001b[0m\u001b[1;33m\u001b[0m\u001b[0m\n\u001b[0;32m    221\u001b[0m         \"\"\"\n\u001b[1;32m--> 222\u001b[1;33m         self.handles = get_handle(\n\u001b[0m\u001b[0;32m    223\u001b[0m             \u001b[0msrc\u001b[0m\u001b[1;33m,\u001b[0m\u001b[1;33m\u001b[0m\u001b[1;33m\u001b[0m\u001b[0m\n\u001b[0;32m    224\u001b[0m             \u001b[1;34m\"r\"\u001b[0m\u001b[1;33m,\u001b[0m\u001b[1;33m\u001b[0m\u001b[1;33m\u001b[0m\u001b[0m\n",
      "\u001b[1;32m~\\anaconda3\\lib\\site-packages\\pandas\\io\\common.py\u001b[0m in \u001b[0;36mget_handle\u001b[1;34m(path_or_buf, mode, encoding, compression, memory_map, is_text, errors, storage_options)\u001b[0m\n\u001b[0;32m    700\u001b[0m         \u001b[1;32mif\u001b[0m \u001b[0mioargs\u001b[0m\u001b[1;33m.\u001b[0m\u001b[0mencoding\u001b[0m \u001b[1;32mand\u001b[0m \u001b[1;34m\"b\"\u001b[0m \u001b[1;32mnot\u001b[0m \u001b[1;32min\u001b[0m \u001b[0mioargs\u001b[0m\u001b[1;33m.\u001b[0m\u001b[0mmode\u001b[0m\u001b[1;33m:\u001b[0m\u001b[1;33m\u001b[0m\u001b[1;33m\u001b[0m\u001b[0m\n\u001b[0;32m    701\u001b[0m             \u001b[1;31m# Encoding\u001b[0m\u001b[1;33m\u001b[0m\u001b[1;33m\u001b[0m\u001b[0m\n\u001b[1;32m--> 702\u001b[1;33m             handle = open(\n\u001b[0m\u001b[0;32m    703\u001b[0m                 \u001b[0mhandle\u001b[0m\u001b[1;33m,\u001b[0m\u001b[1;33m\u001b[0m\u001b[1;33m\u001b[0m\u001b[0m\n\u001b[0;32m    704\u001b[0m                 \u001b[0mioargs\u001b[0m\u001b[1;33m.\u001b[0m\u001b[0mmode\u001b[0m\u001b[1;33m,\u001b[0m\u001b[1;33m\u001b[0m\u001b[1;33m\u001b[0m\u001b[0m\n",
      "\u001b[1;31mFileNotFoundError\u001b[0m: [Errno 2] No such file or directory: 'basisstation3B80.csv'"
     ]
    }
   ],
   "source": [
    "df3_1 = pd.read_csv(\"basisstation3.csv\", header=None)\n",
    "df3_1.columns =['X','Y']\n",
    "\n",
    "df3_2 = pd.read_csv(\"wohnort3.csv\", header=None)\n",
    "df3_2.columns =['X','Y']\n",
    "\n",
    "df3_3 = pd.read_csv(\"ladestation3.csv\", header=None)\n",
    "df3_3.columns =['X','Y']\n",
    "\n",
    "print(df3_1)\n",
    "print(df3_2)\n",
    "print(df3_3)"
   ]
  },
  {
   "cell_type": "code",
   "execution_count": 20,
   "id": "1df5efd0",
   "metadata": {},
   "outputs": [
    {
     "data": {
      "text/plain": [
       "<matplotlib.collections.PathCollection at 0x1cf8220aeb0>"
      ]
     },
     "execution_count": 20,
     "metadata": {},
     "output_type": "execute_result"
    },
    {
     "data": {
      "image/png": "[encoded data removed]",
      "text/plain": [
       "<Figure size 432x288 with 1 Axes>"
      ]
     },
     "metadata": {
      "needs_background": "light"
     },
     "output_type": "display_data"
    }
   ],
   "source": [
    "## normal\n",
    "plt.scatter(df3_1['X'], df3_1['Y'], color='green')\n",
    "plt.scatter(df3_2['X'], df3_2['Y'], color='blue')\n",
    "plt.scatter(df3_3['X'], df3_3['Y'], color='red')"
   ]
  },
  {
   "cell_type": "code",
   "execution_count": null,
   "id": "03ce9870",
   "metadata": {},
   "outputs": [],
   "source": []
  },
  {
   "cell_type": "code",
   "execution_count": 11,
   "id": "893db4df",
   "metadata": {},
   "outputs": [
    {
     "name": "stdout",
     "output_type": "stream",
     "text": [
      "     X    Y\n",
      "0  2.0  2.0\n",
      "      X    Y\n",
      "0   1.5  5.5\n",
      "1   7.8  2.2\n",
      "2   6.1  1.2\n",
      "3   6.2  1.8\n",
      "4   6.4  6.8\n",
      "5   6.8  4.0\n",
      "6   3.2  0.5\n",
      "7   3.1  2.4\n",
      "8   7.4  2.2\n",
      "9   6.0  1.7\n",
      "10  4.4  1.0\n",
      "11  0.4  0.5\n",
      "12  9.0  5.3\n",
      "13  7.9  8.2\n",
      "14  8.7  8.6\n",
      "15  9.6  3.5\n",
      "16  4.3  4.6\n",
      "17  3.8  9.7\n",
      "18  8.7  1.0\n",
      "19  4.4  2.8\n",
      "     X    Y\n",
      "0  2.4  2.6\n",
      "1  5.1  1.7\n",
      "2  6.3  6.8\n",
      "3  7.1  2.5\n"
     ]
    }
   ],
   "source": [
    "df31 = pd.read_csv(\"basisstation_3.csv\", header=None)\n",
    "df31.columns =['X','Y']\n",
    "\n",
    "df32 = pd.read_csv(\"wohnort_3.csv\", header=None)\n",
    "df32.columns =['X','Y']\n",
    "\n",
    "df33 = pd.read_csv(\"ladestation_3.csv\", header=None)\n",
    "df33.columns =['X','Y']\n",
    "\n",
    "## B 80\n",
    "df3_1b80 = pd.read_csv(\"basisstation_3B80.csv\", header=None)\n",
    "df3_1b80.columns =['X','Y']\n",
    "\n",
    "df3_2b80 = pd.read_csv(\"wohnort_3B80.csv\", header=None)\n",
    "df3_2b80.columns =['X','Y']\n",
    "\n",
    "df3_3b80 = pd.read_csv(\"ladestation_3B80.csv\", header=None)\n",
    "df3_3b80.columns =['X','Y']\n",
    "\n",
    "## W 80\n",
    "df3_1w80 = pd.read_csv(\"basisstation_3W80.csv\", header=None)\n",
    "df3_1w80.columns =['X','Y']\n",
    "\n",
    "df3_2w80 = pd.read_csv(\"wohnort_3W80.csv\", header=None)\n",
    "df3_2w80.columns =['X','Y']\n",
    "\n",
    "df3_3w80 = pd.read_csv(\"ladestation_3W80.csv\", header=None)\n",
    "df3_3w80.columns =['X','Y']\n",
    "##B 70\n",
    "df3_1b70 = pd.read_csv(\"basisstation_3B70.csv\", header=None)\n",
    "df3_1b70.columns =['X','Y']\n",
    "\n",
    "df3_2b70 = pd.read_csv(\"wohnort_3B70.csv\", header=None)\n",
    "df3_2b70.columns =['X','Y']\n",
    "\n",
    "df3_3b70 = pd.read_csv(\"ladestation_3B70.csv\", header=None)\n",
    "df3_3b70.columns =['X','Y']\n",
    "\n",
    "##B 60\n",
    "df3_1b60 = pd.read_csv(\"basisstation_3B60.csv\", header=None)\n",
    "df3_1b60.columns =['X','Y']\n",
    "\n",
    "df3_2b60 = pd.read_csv(\"wohnort_3B60.csv\", header=None)\n",
    "df3_2b60.columns =['X','Y']\n",
    "\n",
    "df3_3b60 = pd.read_csv(\"ladestation_3B60.csv\", header=None)\n",
    "df3_3b60.columns =['X','Y']\n",
    "\n",
    "##B 50\n",
    "df3_1b50 = pd.read_csv(\"basisstation_3B50.csv\", header=None)\n",
    "df3_1b50.columns =['X','Y']\n",
    "\n",
    "df3_2b50 = pd.read_csv(\"wohnort_3B50.csv\", header=None)\n",
    "df3_2b50.columns =['X','Y']\n",
    "\n",
    "df3_3b50 = pd.read_csv(\"ladestation_3B50.csv\", header=None)\n",
    "df3_3b50.columns =['X','Y']\n",
    "\n",
    "print(df31)\n",
    "print(df32)\n",
    "print(df33)"
   ]
  },
  {
   "cell_type": "code",
   "execution_count": 7,
   "id": "c734c0a8",
   "metadata": {},
   "outputs": [
    {
     "data": {
      "text/plain": [
       "<matplotlib.collections.PathCollection at 0x17c133043d0>"
      ]
     },
     "execution_count": 7,
     "metadata": {},
     "output_type": "execute_result"
    },
    {
     "data": {
      "image/png": "[encoded data removed]",
      "text/plain": [
       "<Figure size 432x288 with 1 Axes>"
      ]
     },
     "metadata": {
      "needs_background": "light"
     },
     "output_type": "display_data"
    }
   ],
   "source": [
    "## ohne Gewichte \n",
    "plt.scatter(df31['X'], df31['Y'], color='green')\n",
    "plt.scatter(df32['X'], df32['Y'], color='blue')\n",
    "plt.scatter(df33['X'], df33['Y'], color='red')"
   ]
  },
  {
   "cell_type": "code",
   "execution_count": 8,
   "id": "90d8dd73",
   "metadata": {},
   "outputs": [
    {
     "data": {
      "text/plain": [
       "<matplotlib.collections.PathCollection at 0x17c133709d0>"
      ]
     },
     "execution_count": 8,
     "metadata": {},
     "output_type": "execute_result"
    },
    {
     "data": {
      "image/png": "[encoded data removed]",
      "text/plain": [
       "<Figure size 432x288 with 1 Axes>"
      ]
     },
     "metadata": {
      "needs_background": "light"
     },
     "output_type": "display_data"
    }
   ],
   "source": [
    "## B80\n",
    "plt.scatter(df3_1b80['X'], df3_1b80['Y'], color='green')\n",
    "plt.scatter(df3_2b80['X'], df3_2b80['Y'], color='blue')\n",
    "plt.scatter(df3_3b80['X'], df3_3b80['Y'], color='red')"
   ]
  },
  {
   "cell_type": "code",
   "execution_count": 9,
   "id": "58d8170d",
   "metadata": {},
   "outputs": [
    {
     "data": {
      "text/plain": [
       "<matplotlib.collections.PathCollection at 0x17c133da9d0>"
      ]
     },
     "execution_count": 9,
     "metadata": {},
     "output_type": "execute_result"
    },
    {
     "data": {
      "image/png": "[encoded data removed]",
      "text/plain": [
       "<Figure size 432x288 with 1 Axes>"
      ]
     },
     "metadata": {
      "needs_background": "light"
     },
     "output_type": "display_data"
    }
   ],
   "source": [
    "## B70\n",
    "plt.scatter(df3_1b70['X'], df3_1b70['Y'], color='green')\n",
    "plt.scatter(df3_2b70['X'], df3_2b70['Y'], color='blue')\n",
    "plt.scatter(df3_3b70['X'], df3_3b70['Y'], color='red')"
   ]
  },
  {
   "cell_type": "code",
   "execution_count": 12,
   "id": "fba241e7",
   "metadata": {},
   "outputs": [
    {
     "data": {
      "text/plain": [
       "<matplotlib.collections.PathCollection at 0x17c134a5670>"
      ]
     },
     "execution_count": 12,
     "metadata": {},
     "output_type": "execute_result"
    },
    {
     "data": {
      "image/png": "[encoded data removed]",
      "text/plain": [
       "<Figure size 432x288 with 1 Axes>"
      ]
     },
     "metadata": {
      "needs_background": "light"
     },
     "output_type": "display_data"
    }
   ],
   "source": [
    "## B60\n",
    "plt.scatter(df3_1b60['X'], df3_1b60['Y'], color='green')\n",
    "plt.scatter(df3_2b60['X'], df3_2b60['Y'], color='blue')\n",
    "plt.scatter(df3_3b60['X'], df3_3b60['Y'], color='red')"
   ]
  },
  {
   "cell_type": "code",
   "execution_count": 13,
   "id": "509200f1",
   "metadata": {},
   "outputs": [
    {
     "data": {
      "text/plain": [
       "<matplotlib.collections.PathCollection at 0x17c134fffa0>"
      ]
     },
     "execution_count": 13,
     "metadata": {},
     "output_type": "execute_result"
    },
    {
     "data": {
      "image/png": "[encoded data removed]",
      "text/plain": [
       "<Figure size 432x288 with 1 Axes>"
      ]
     },
     "metadata": {
      "needs_background": "light"
     },
     "output_type": "display_data"
    }
   ],
   "source": [
    "## B50\n",
    "plt.scatter(df3_1b50['X'], df3_1b50['Y'], color='green')\n",
    "plt.scatter(df3_2b50['X'], df3_2b50['Y'], color='blue')\n",
    "plt.scatter(df3_3b50['X'], df3_3b50['Y'], color='red')"
   ]
  },
  {
   "cell_type": "code",
   "execution_count": 10,
   "id": "f867b325",
   "metadata": {},
   "outputs": [
    {
     "data": {
      "text/plain": [
       "<matplotlib.collections.PathCollection at 0x17c134305b0>"
      ]
     },
     "execution_count": 10,
     "metadata": {},
     "output_type": "execute_result"
    },
    {
     "data": {
      "image/png": "[encoded data removed]",
      "text/plain": [
       "<Figure size 432x288 with 1 Axes>"
      ]
     },
     "metadata": {
      "needs_background": "light"
     },
     "output_type": "display_data"
    }
   ],
   "source": [
    "## W80\n",
    "plt.scatter(df3_1w80['X'], df3_1w80['Y'], color='green')\n",
    "plt.scatter(df3_2w80['X'], df3_2w80['Y'], color='blue')\n",
    "plt.scatter(df3_3w80['X'], df3_3w80['Y'], color='red')"
   ]
  },
  {
   "cell_type": "code",
   "execution_count": 14,
   "id": "a5422190",
   "metadata": {},
   "outputs": [
    {
     "name": "stdout",
     "output_type": "stream",
     "text": [
      "     X    Y\n",
      "0  5.0  7.0\n",
      "      X     Y\n",
      "0   1.5   5.0\n",
      "1   6.9   4.3\n",
      "2   1.0   2.5\n",
      "3   7.6   2.2\n",
      "4   4.1   9.7\n",
      "5   5.3   7.4\n",
      "6   2.8   1.8\n",
      "7   5.8   5.3\n",
      "8   0.1   3.5\n",
      "9   0.6   3.8\n",
      "10  7.7   7.1\n",
      "11  2.5   6.2\n",
      "12  1.5   4.4\n",
      "13  3.6   8.1\n",
      "14  9.4   3.6\n",
      "15  2.3   6.3\n",
      "16  5.7   8.8\n",
      "17  6.1   4.1\n",
      "18  3.0   0.6\n",
      "19  7.4   6.5\n",
      "20  0.4   4.4\n",
      "21  4.6   6.5\n",
      "22  4.8   9.2\n",
      "23  2.0   1.8\n",
      "24  7.4   8.9\n",
      "25  6.5   8.7\n",
      "26  3.7   2.5\n",
      "27  2.4   2.8\n",
      "28  4.6  10.0\n",
      "29  7.7   0.3\n",
      "     X    Y\n",
      "0  1.6  4.2\n",
      "1  4.4  8.8\n",
      "2  5.1  4.7\n",
      "3  2.1  5.1\n",
      "4  6.8  7.3\n",
      "5  7.3  3.5\n",
      "6  3.0  2.8\n",
      "7  3.5  6.4\n",
      "8  5.7  8.0\n"
     ]
    }
   ],
   "source": [
    "df4_1 = pd.read_csv(\"basisstation4.csv\", header=None)\n",
    "df4_1.columns =['X','Y']\n",
    "\n",
    "df4_2 = pd.read_csv(\"wohnort4.csv\", header=None)\n",
    "df4_2.columns =['X','Y']\n",
    "\n",
    "df4_3 = pd.read_csv(\"ladestation4.csv\", header=None)\n",
    "df4_3.columns =['X','Y']\n",
    "\n",
    "print(df4_1)\n",
    "print(df4_2)\n",
    "print(df4_3)"
   ]
  },
  {
   "cell_type": "code",
   "execution_count": 15,
   "id": "dcc1a9f4",
   "metadata": {},
   "outputs": [
    {
     "data": {
      "text/plain": [
       "<matplotlib.collections.PathCollection at 0x17c135746a0>"
      ]
     },
     "execution_count": 15,
     "metadata": {},
     "output_type": "execute_result"
    },
    {
     "data": {
      "image/png": "[encoded data removed]",
      "text/plain": [
       "<Figure size 432x288 with 1 Axes>"
      ]
     },
     "metadata": {
      "needs_background": "light"
     },
     "output_type": "display_data"
    }
   ],
   "source": [
    "plt.scatter(df4_1['X'], df4_1['Y'], color='green')\n",
    "plt.scatter(df4_2['X'], df4_2['Y'], color='blue')\n",
    "plt.scatter(df4_3['X'], df4_3['Y'], color='red')"
   ]
  },
  {
   "cell_type": "code",
   "execution_count": 16,
   "id": "85667150",
   "metadata": {},
   "outputs": [
    {
     "name": "stdout",
     "output_type": "stream",
     "text": [
      "     X    Y\n",
      "0  5.0  5.0\n",
      "      X     Y\n",
      "0   3.1   5.9\n",
      "1   2.3   4.8\n",
      "2   2.0   7.0\n",
      "3   8.5   2.3\n",
      "4   9.9   5.3\n",
      "5   1.3   3.7\n",
      "6   3.0   1.9\n",
      "7   9.5   2.5\n",
      "8   8.7   3.5\n",
      "9   8.5   8.8\n",
      "10  0.5   8.0\n",
      "11  8.3   2.4\n",
      "12  6.2   8.7\n",
      "13  1.4   2.7\n",
      "14  1.5   4.2\n",
      "15  5.6   6.5\n",
      "16  7.2   3.3\n",
      "17  9.7   5.8\n",
      "18  7.0   9.4\n",
      "19  4.5   4.1\n",
      "20  3.1   7.2\n",
      "21  1.8   7.3\n",
      "22  7.1   4.2\n",
      "23  8.3   8.8\n",
      "24  1.3  10.0\n",
      "25  2.2   4.9\n",
      "26  3.4   7.3\n",
      "27  8.4   2.1\n",
      "28  6.4   3.0\n",
      "29  8.6   3.0\n",
      "30  4.2   9.7\n",
      "31  0.2   4.4\n",
      "32  4.1   0.9\n",
      "33  0.4   2.5\n",
      "34  5.9   5.3\n",
      "35  8.9   3.4\n",
      "36  6.7   4.9\n",
      "37  8.7   1.6\n",
      "38  3.2   5.4\n",
      "39  4.2   9.5\n",
      "40  3.6   9.2\n",
      "41  1.0   1.7\n",
      "42  6.2   8.0\n",
      "43  9.2   7.9\n",
      "44  5.3   9.9\n",
      "45  1.6   9.4\n",
      "46  7.4   8.9\n",
      "47  9.7   2.3\n",
      "48  3.8   0.4\n",
      "49  3.0   0.8\n",
      "     X    Y\n",
      "0  2.4  4.8\n",
      "1  2.3  7.7\n",
      "2  7.1  7.0\n",
      "3  7.9  4.1\n",
      "4  3.3  2.3\n",
      "5  8.2  2.4\n",
      "6  5.2  8.7\n"
     ]
    }
   ],
   "source": [
    "df5_1 = pd.read_csv(\"basisstation5.csv\", header=None)\n",
    "df5_1.columns =['X','Y']\n",
    "\n",
    "df5_2 = pd.read_csv(\"wohnort5.csv\", header=None)\n",
    "df5_2.columns =['X','Y']\n",
    "\n",
    "df5_3 = pd.read_csv(\"ladestation5.csv\", header=None)\n",
    "df5_3.columns =['X','Y']\n",
    "\n",
    "print(df5_1)\n",
    "print(df5_2)\n",
    "print(df5_3)"
   ]
  },
  {
   "cell_type": "code",
   "execution_count": 17,
   "id": "3751bcec",
   "metadata": {},
   "outputs": [
    {
     "data": {
      "text/plain": [
       "<matplotlib.collections.PathCollection at 0x17c135dfac0>"
      ]
     },
     "execution_count": 17,
     "metadata": {},
     "output_type": "execute_result"
    },
    {
     "data": {
      "image/png": "[encoded data removed]",
      "text/plain": [
       "<Figure size 432x288 with 1 Axes>"
      ]
     },
     "metadata": {
      "needs_background": "light"
     },
     "output_type": "display_data"
    }
   ],
   "source": [
    "plt.scatter(df5_1['X'], df5_1['Y'], color='green')\n",
    "plt.scatter(df5_2['X'], df5_2['Y'], color='blue')\n",
    "plt.scatter(df5_3['X'], df5_3['Y'], color='red')"
   ]
  }
 ],
 "metadata": {
  "kernelspec": {
   "display_name": "Python 3 (ipykernel)",
   "language": "python",
   "name": "python3"
  },
  "language_info": {
   "codemirror_mode": {
    "name": "ipython",
    "version": 3
   },
   "file_extension": ".py",
   "mimetype": "text/x-python",
   "name": "python",
   "nbconvert_exporter": "python",
   "pygments_lexer": "ipython3",
   "version": "3.9.7"
  }
 },
 "nbformat": 4,
 "nbformat_minor": 5
}
